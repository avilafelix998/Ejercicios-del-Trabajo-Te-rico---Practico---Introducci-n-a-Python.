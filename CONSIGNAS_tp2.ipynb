{
 "cells": [
  {
   "cell_type": "markdown",
   "metadata": {},
   "source": [
    "# Criterios de evaluación.\n",
    "\n",
    "* Se deben utilizar nombres de variables descriptivos y claros.\n",
    "* Cada ejercicio debe ser realizado utilizando **FUNCIONES**, NO solo codigo suelto.\n",
    "* Comentarios claros y concisos que expliquen el propósito de cada sección del código.\n",
    "* Entrega en tiempo y forma.\n",
    "* Todo el código desarrollado debe ser subido a un repositorio en GitHub.\n",
    "\n",
    "\n",
    "**Aclaración: Para resolver las actividades se debe incertar casillas de codigo entre cada actividad del cuaderno de Jupyter**"
   ]
  },
  {
   "cell_type": "markdown",
   "metadata": {},
   "source": [
    "### 1. **Bucles**\n",
    "\n",
    "   - **Actividad 1.1**: Escribir un programa que muestre el print de todo lo que el usuario introduzca hasta que el usuario escriba “salir” que terminará.\n",
    "   \n",
    "   - **Actividad 1.2**: Escribir un programa que pida al usuario un número entero y muestre por pantalla un triángulo rectángulo como el de más abajo con la cantidad de escalones indicados previamente (los numeros dentro del triangulo deben ser enteros aleatorios del 0 al 9).\n",
    "* 1\n",
    "* 3 1\n",
    "* 5 3 1\n",
    "* 7 5 3 1\n",
    "* 9 7 5 3 1"
   ]
  },
  {
   "cell_type": "code",
   "execution_count": null,
   "metadata": {},
   "outputs": [
    {
     "name": "stdout",
     "output_type": "stream",
     "text": [
      "esto es todo lo que introdujo:holA\n",
      "chau\n"
     ]
    }
   ],
   "source": [
    "\n",
    "# todo: Resolución\n",
    "# ! 1\n",
    "def leer_entrada():\n",
    "    while True:\n",
    "        # Condición para que el usuario al escribir salir termine el ciclo\n",
    "        user_input = input(\"Introduzca algo (si desea salir, escriba 'salir'): \")\n",
    "        \n",
    "        # Si el usuario escribe \"salir\", termina el ciclo\n",
    "        if user_input.lower() == \"salir\":\n",
    "            print(\"Chau\")\n",
    "            break\n",
    "        \n",
    "        if user_input == \"\":\n",
    "            continue\n",
    "        \n",
    "        print(f\"Esto es todo lo que introdujo: {user_input}\")\n",
    "\n",
    "leer_entrada()"
   ]
  },
  {
   "cell_type": "code",
   "execution_count": null,
   "metadata": {},
   "outputs": [
    {
     "name": "stdout",
     "output_type": "stream",
     "text": [
      "2\n",
      "16\n",
      "424\n"
     ]
    }
   ],
   "source": [
    "\n",
    "# todo: resolución\n",
    "\n",
    "# ! 2\n",
    "import random\n",
    "\n",
    "def generar_triangulo():\n",
    "    # Pedimos al usuario que ingrese el número de escalones\n",
    "    escalones = int(input(\"Introduce el número de escalones: \"))\n",
    "    \n",
    "    # Usamos un ciclo for para generar el triángulo\n",
    "    for i in range(1, escalones + 1):\n",
    "        # Generamos una fila con \"i\" números aleatorios\n",
    "        fila = [random.randint(0, 9) for _ in range(i)]  # Lista por comprensión\n",
    "        print(\"\".join(map(str, fila)))\n",
    "\n",
    "generar_triangulo()\n",
    "\n"
   ]
  },
  {
   "cell_type": "markdown",
   "metadata": {},
   "source": [
    "### 2. **Listas y Tuplas**\n",
    "\n",
    "   - **Actividad 1**: Escribir un programa que pida al usuario una frase y muestre por pantalla el número de veces que contiene cada vocal y la cantidad de espacios en blanco.\n",
    "\n",
    "   - **Actividad 2**: Escribir un programa que cree una matriz (con numeros aleatorios del 1 al 100) usando las dimensiones de X e Y que el usuario deberia ingresar por consola, luego crea una tupla con la matriz transpuesta y por ultimo las muestra ambas por consola .\n",
    "\n",
    "   - **Actividad 3**: Escribir un programa que almacene en una lista los siguientes precios, 50, 75, 46, 22, 80, 65, 8, y muestre por pantalla el menor y el mayor de los precios"
   ]
  },
  {
   "cell_type": "code",
   "execution_count": 4,
   "metadata": {},
   "outputs": [
    {
     "name": "stdout",
     "output_type": "stream",
     "text": [
      "La vocal 'a' aparece 1 veces.\n",
      "La vocal 'e' aparece 0 veces.\n",
      "La vocal 'i' aparece 0 veces.\n",
      "La vocal 'o' aparece 1 veces.\n",
      "La vocal 'u' aparece 0 veces.\n",
      "El número de espacios en blanco es: 0\n"
     ]
    }
   ],
   "source": [
    "\n",
    "# todo: Resolución\n",
    "\n",
    "# ! 1\n",
    "def vocales_y_espacios():\n",
    "    # Pedimos una frase al usuario\n",
    "    frase = input(\"Ingrese una frase: \")\n",
    "\n",
    "    # Definimos las vocales y inicializamos los contadores\n",
    "    vocales = ['a', 'e', 'i', 'o', 'u']\n",
    "    conteo_vocales = [0] * len(vocales)  # Lista con contadores para cada vocal\n",
    "    espacios = 0\n",
    "    \n",
    "    # Recorremos cada caracter de la frase\n",
    "    for caracter in frase.lower():\n",
    "        if caracter in vocales:\n",
    "            conteo_vocales[vocales.index(caracter)] += 1\n",
    "        elif caracter == \" \":\n",
    "            espacios += 1  # Contamos los espacios en blanco\n",
    "\n",
    "    # Mostrar el resultado de las vocales\n",
    "    for i, vocal in enumerate(vocales):\n",
    "        print(f\"La vocal '{vocal}' aparece {conteo_vocales[i]} veces.\")\n",
    "    \n",
    "    print(f\"El número de espacios en blanco es: {espacios}\")\n",
    "\n",
    "vocales_y_espacios()\n"
   ]
  },
  {
   "cell_type": "code",
   "execution_count": null,
   "metadata": {},
   "outputs": [
    {
     "name": "stdout",
     "output_type": "stream",
     "text": [
      "matriz:\n",
      "[32]\n",
      "[62]\n",
      "matriz transpuesta:\n",
      "(32, 62)\n"
     ]
    }
   ],
   "source": [
    "\n",
    "# todo: Resolución\n",
    "\n",
    "# ! 2\n",
    "import random\n",
    "\n",
    "def crear_matriz(x, y):\n",
    "    # Crear la matriz con dimensiones x (filas) y (columnas)\n",
    "    matriz = []\n",
    "    for i in range(x):\n",
    "        fila = [random.randint(1, 100) for _ in range(y)]  # Genera números aleatorios entre 1 y 100\n",
    "        matriz.append(fila)\n",
    "\n",
    "    # Crear la tupla con la matriz transpuesta\n",
    "    matriz_transpuesta = tuple(zip(*matriz))\n",
    "\n",
    "    \n",
    "    print(\"Matriz:\")\n",
    "    for fila in matriz:\n",
    "        print(fila)\n",
    "\n",
    "\n",
    "    print(\"Matriz transpuesta:\")\n",
    "    for fila in matriz_transpuesta:\n",
    "        print(fila)\n",
    "\n",
    "x = int(input(\"Ingresa el número de filas: \"))\n",
    "y = int(input(\"Ingresa el número de columnas: \"))\n",
    "crear_matriz(x, y)\n",
    "\n",
    "\n"
   ]
  },
  {
   "cell_type": "code",
   "execution_count": 5,
   "metadata": {},
   "outputs": [
    {
     "name": "stdout",
     "output_type": "stream",
     "text": [
      "El precio menor es: 8\n",
      "El precio mayor es: 80\n"
     ]
    }
   ],
   "source": [
    "\n",
    "# todo: Resolución\n",
    "\n",
    "# ! 3\n",
    "\n",
    "def obtener_precios(precios):\n",
    "\n",
    "    precio_menor = min(precios)\n",
    "    precio_mayor = max(precios)\n",
    "    \n",
    "    print(\"El precio menor es:\", precio_menor)\n",
    "    print(\"El precio mayor es:\", precio_mayor)\n",
    "\n",
    "precios = [50, 75, 46, 22, 80, 65, 8]\n",
    "\n",
    "obtener_precios(precios)\n"
   ]
  },
  {
   "cell_type": "markdown",
   "metadata": {},
   "source": [
    "### 3. **Diccionarios**\n",
    "\n",
    "   - **Actividad 1**: Escribir un programa que cree un diccionario simulando una cesta de la compra. El programa debe preguntar el artículo y su precio y añadir el par al diccionario, hasta que el usuario decida terminar. Después se debe mostrar por pantalla la lista de la compra y el coste total, con el siguiente formato.\n",
    "\n",
    "   | arts  |precio |\n",
    "   |-------|-------|\n",
    "   |art 1  |1      |\n",
    "   |art 2  |2      |\n",
    "   |art 3  |3      |\n",
    "   |total  |6      |\n",
    "\n",
    "   - **Actividad 2**: Escribir un programa que cree un diccionario de traducción español-inglés. El usuario introducirá las palabras en español e inglés separadas por dos puntos, y cada par <palabra> : <traducción> separados por comas (es decir, solo se debe usar **UNA VEZ** la función input para la carga de palabras). El programa debe crear un diccionario con las palabras y sus traducciones. Después pedirá una frase en español y utilizará el diccionario para traducirla palabra a palabra. Si una palabra no está en el diccionario debe dejarla sin traducir.\n",
    "\n",
    "   - **Actividad 3**: Escribir un programa que reciba una cadena de caracteres y devuelva un diccionario con cada palabra que contiene y su frecuencia. Escribir otra función que reciba el diccionario generado con la función anterior y devuelva una tupla con la palabra más repetida y su frecuencia."
   ]
  },
  {
   "cell_type": "code",
   "execution_count": null,
   "metadata": {},
   "outputs": [
    {
     "name": "stdout",
     "output_type": "stream",
     "text": [
      "Lista de la Compra\n",
      "uva: $10.0\n",
      "piña: $1443.0\n",
      "\n",
      "Total: $1453.0\n"
     ]
    }
   ],
   "source": [
    "\n",
    "# todo: Resolución\n",
    "\n",
    "# ! 1\n",
    "def cesta_compra():\n",
    "    # Crear un diccionario vacío para la cesta de la compra\n",
    "    cesta = {}\n",
    "\n",
    "    # Bucle para preguntar por artículos y precios hasta que el usuario decida terminar\n",
    "    while True:\n",
    "        articulo = input(\"Introduce el nombre del artículo (o 'listo' para finalizar): \")\n",
    "        \n",
    "        if articulo.lower() == 'listo':\n",
    "            break\n",
    "        \n",
    "        try:\n",
    "            precio = float(input(f\"Introduce el precio de '{articulo}': \"))\n",
    "        except ValueError:\n",
    "            print(\"Por favor, introduce un precio válido.\")\n",
    "            continue\n",
    "        \n",
    "        # Añadir el artículo y su precio al diccionario\n",
    "        cesta[articulo] = precio\n",
    "\n",
    "    print(\"Lista de la Compra\")\n",
    "    total = 0\n",
    "\n",
    "    for articulo, precio in cesta.items():\n",
    "        print(f\"{articulo}: ${precio}\")\n",
    "        total += precio\n",
    "\n",
    "    print(f\"\\nTotal: ${total}\")\n",
    "\n",
    "\n",
    "cesta_compra()\n",
    "\n",
    "\n"
   ]
  },
  {
   "cell_type": "code",
   "execution_count": 8,
   "metadata": {},
   "outputs": [
    {
     "name": "stdout",
     "output_type": "stream",
     "text": [
      "Frase traducida: hello quiero rice\n"
     ]
    }
   ],
   "source": [
    "def devtraductor():\n",
    "    entrada_usuario = input(\"Introduce las traducciones (ejemplo casa:house,perro:dog): \")\n",
    "    diccionario = {}\n",
    "    pares = entrada_usuario.split(',')\n",
    "\n",
    "    for par in pares:\n",
    "        if ':' in par:\n",
    "            clave, valor = par.split(':')\n",
    "            diccionario[clave.strip()] = valor.strip()\n",
    "\n",
    "    frase = input(\"Introduce una frase en español para traducir: \")\n",
    "    palabras = frase.split()\n",
    "    traduccion = []\n",
    "\n",
    "    for palabra in palabras:\n",
    "        traduccion.append(diccionario.get(palabra, palabra))\n",
    "\n",
    "    print(\"Frase traducida:\", ' '.join(traduccion))\n",
    "\n",
    "devtraductor()"
   ]
  },
  {
   "cell_type": "code",
   "execution_count": null,
   "metadata": {},
   "outputs": [
    {
     "name": "stdout",
     "output_type": "stream",
     "text": [
      "Frecuencia de palabras: {'hola': 1, 'como': 1, 'estas': 1}\n",
      "La palabra más repetida es 'hola' con 1 repeticiones.\n"
     ]
    }
   ],
   "source": [
    "\n",
    "# todo: Resolución\n",
    "\n",
    "# ! 3\n",
    "#funcion para contar la frecuencia\n",
    "def contar_frecuencia(cadena):\n",
    "    diccionario = {}\n",
    "    palabras = cadena.split()  # se divide la cadena en palabras\n",
    "    \n",
    "    for palabra in palabras:\n",
    "        diccionario[palabra] = diccionario.get(palabra, 0) + 1  # se cuenta la frecuencia\n",
    "    \n",
    "    return diccionario\n",
    "\n",
    "def palabra_mas_repetida(diccionario):\n",
    "    palabra_max = None\n",
    "    frecuencia_max = 0\n",
    "    \n",
    "    # recorremos el diccionario para encontrar la palabra con mayor frecuencia\n",
    "    for palabra, frecuencia in diccionario.items():\n",
    "        if frecuencia > frecuencia_max:\n",
    "            palabra_max = palabra\n",
    "            frecuencia_max = frecuencia\n",
    "            \n",
    "    return (palabra_max, frecuencia_max)\n",
    "\n",
    "def main():\n",
    "    cadena = input(\"Introduce una cadena de texto: \")\n",
    "    \n",
    "    # Contar la frecuencia de las palabras\n",
    "    diccionario_frecuencia = contar_frecuencia(cadena)\n",
    "    print(\"Frecuencia de palabras:\", diccionario_frecuencia)\n",
    "    \n",
    "    # Obtener la palabra más repetida\n",
    "    palabra, frecuencia = palabra_mas_repetida(diccionario_frecuencia)\n",
    "    print(f\"La palabra más repetida es '{palabra}' con {frecuencia} repeticiones.\")\n",
    "\n",
    "main()\n",
    "\n"
   ]
  },
  {
   "cell_type": "markdown",
   "metadata": {},
   "source": [
    "### 4. **Funciones**\n",
    "\n",
    "- **Actividad 1**: Escribir una función que calcule el total de una factura tras aplicarle el IVA. La función debe recibir la cantidad sin IVA y el porcentaje de IVA a aplicar, y devolver el total de la factura. Si se invoca la función sin pasarle el porcentaje de IVA, deberá aplicar un 21%.\n",
    "\n",
    "- **Actividad 2**: Escribir una función que reciba un número entero positivo y devuelva su factorial.\n"
   ]
  },
  {
   "cell_type": "code",
   "execution_count": 9,
   "metadata": {},
   "outputs": [],
   "source": [
    "\n",
    "# todo: Resolución\n",
    "\n",
    "# ! 1"
   ]
  },
  {
   "cell_type": "code",
   "execution_count": 10,
   "metadata": {},
   "outputs": [],
   "source": [
    "\n",
    "# todo: Resolución\n",
    "\n",
    "# ! 2"
   ]
  }
 ],
 "metadata": {
  "kernelspec": {
   "display_name": "Python 3",
   "language": "python",
   "name": "python3"
  },
  "language_info": {
   "codemirror_mode": {
    "name": "ipython",
    "version": 3
   },
   "file_extension": ".py",
   "mimetype": "text/x-python",
   "name": "python",
   "nbconvert_exporter": "python",
   "pygments_lexer": "ipython3",
   "version": "3.13.2"
  }
 },
 "nbformat": 4,
 "nbformat_minor": 2
}
