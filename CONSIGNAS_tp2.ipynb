{
 "cells": [
  {
   "cell_type": "markdown",
   "metadata": {},
   "source": [
    "# Criterios de evaluación.\n",
    "\n",
    "* Se deben utilizar nombres de variables descriptivos y claros.\n",
    "* Cada ejercicio debe ser realizado utilizando **FUNCIONES**, NO solo codigo suelto.\n",
    "* Comentarios claros y concisos que expliquen el propósito de cada sección del código.\n",
    "* Entrega en tiempo y forma.\n",
    "* Todo el código desarrollado debe ser subido a un repositorio en GitHub.\n",
    "\n",
    "\n",
    "**Aclaración: Para resolver las actividades se debe incertar casillas de codigo entre cada actividad del cuaderno de Jupyter**"
   ]
  },
  {
   "cell_type": "markdown",
   "metadata": {},
   "source": [
    "### 1. **Bucles**\n",
    "\n",
    "   - **Actividad 1.1**: Escribir un programa que muestre el print de todo lo que el usuario introduzca hasta que el usuario escriba “salir” que terminará.\n",
    "   \n",
    "   - **Actividad 1.2**: Escribir un programa que pida al usuario un número entero y muestre por pantalla un triángulo rectángulo como el de más abajo con la cantidad de escalones indicados previamente (los numeros dentro del triangulo deben ser enteros aleatorios del 0 al 9).\n",
    "* 1\n",
    "* 3 1\n",
    "* 5 3 1\n",
    "* 7 5 3 1\n",
    "* 9 7 5 3 1"
   ]
  },
  {
   "cell_type": "code",
   "execution_count": null,
   "metadata": {},
   "outputs": [
    {
     "name": "stdout",
     "output_type": "stream",
     "text": [
      "esto es todo lo que introdujo:holA\n",
      "chau\n"
     ]
    }
   ],
   "source": [
    "\n",
    "# todo: Resolución\n",
    "# ! 1\n",
    "def leer_entrada():\n",
    "    while True:\n",
    "        # Condición para que el usuario al escribir salir termine el ciclo\n",
    "        user_input = input(\"Introduzca algo (si desea salir, escriba 'salir'): \")\n",
    "        \n",
    "        # Si el usuario escribe \"salir\", termina el ciclo\n",
    "        if user_input.lower() == \"salir\":\n",
    "            print(\"Chau\")\n",
    "            break\n",
    "        \n",
    "        if user_input == \"\":\n",
    "            continue\n",
    "        \n",
    "        print(f\"Esto es todo lo que introdujo: {user_input}\")\n",
    "\n",
    "leer_entrada()"
   ]
  },
  {
   "cell_type": "code",
   "execution_count": null,
   "metadata": {},
   "outputs": [
    {
     "name": "stdout",
     "output_type": "stream",
     "text": [
      "2\n",
      "16\n",
      "424\n"
     ]
    }
   ],
   "source": [
    "\n",
    "# todo: resolución\n",
    "\n",
    "# ! 2\n",
    "import random\n",
    "\n",
    "def generar_triangulo():\n",
    "    # Pedimos al usuario que ingrese el número de escalones\n",
    "    escalones = int(input(\"Introduce el número de escalones: \"))\n",
    "    \n",
    "    # Usamos un ciclo for para generar el triángulo\n",
    "    for i in range(1, escalones + 1):\n",
    "        # Generamos una fila con \"i\" números aleatorios\n",
    "        fila = [random.randint(0, 9) for _ in range(i)]  # Lista por comprensión\n",
    "        print(\"\".join(map(str, fila)))\n",
    "\n",
    "generar_triangulo()\n",
    "\n"
   ]
  },
  {
   "cell_type": "markdown",
   "metadata": {},
   "source": [
    "### 2. **Listas y Tuplas**\n",
    "\n",
    "   - **Actividad 1**: Escribir un programa que pida al usuario una frase y muestre por pantalla el número de veces que contiene cada vocal y la cantidad de espacios en blanco.\n",
    "\n",
    "   - **Actividad 2**: Escribir un programa que cree una matriz (con numeros aleatorios del 1 al 100) usando las dimensiones de X e Y que el usuario deberia ingresar por consola, luego crea una tupla con la matriz transpuesta y por ultimo las muestra ambas por consola .\n",
    "\n",
    "   - **Actividad 3**: Escribir un programa que almacene en una lista los siguientes precios, 50, 75, 46, 22, 80, 65, 8, y muestre por pantalla el menor y el mayor de los precios"
   ]
  },
  {
   "cell_type": "code",
   "execution_count": 4,
   "metadata": {},
   "outputs": [
    {
     "name": "stdout",
     "output_type": "stream",
     "text": [
      "La vocal 'a' aparece 1 veces.\n",
      "La vocal 'e' aparece 0 veces.\n",
      "La vocal 'i' aparece 0 veces.\n",
      "La vocal 'o' aparece 1 veces.\n",
      "La vocal 'u' aparece 0 veces.\n",
      "El número de espacios en blanco es: 0\n"
     ]
    }
   ],
   "source": [
    "\n",
    "# todo: Resolución\n",
    "\n",
    "# ! 1\n",
    "def vocales_y_espacios():\n",
    "    # Pedimos una frase al usuario\n",
    "    frase = input(\"Ingrese una frase: \")\n",
    "\n",
    "    # Definimos las vocales y inicializamos los contadores\n",
    "    vocales = ['a', 'e', 'i', 'o', 'u']\n",
    "    conteo_vocales = [0] * len(vocales)  # Lista con contadores para cada vocal\n",
    "    espacios = 0\n",
    "    \n",
    "    # Recorremos cada caracter de la frase\n",
    "    for caracter in frase.lower():\n",
    "        if caracter in vocales:\n",
    "            conteo_vocales[vocales.index(caracter)] += 1\n",
    "        elif caracter == \" \":\n",
    "            espacios += 1  # Contamos los espacios en blanco\n",
    "\n",
    "    # Mostrar el resultado de las vocales\n",
    "    for i, vocal in enumerate(vocales):\n",
    "        print(f\"La vocal '{vocal}' aparece {conteo_vocales[i]} veces.\")\n",
    "    \n",
    "    print(f\"El número de espacios en blanco es: {espacios}\")\n",
    "\n",
    "vocales_y_espacios()\n"
   ]
  },
  {
   "cell_type": "code",
   "execution_count": null,
   "metadata": {},
   "outputs": [
    {
     "name": "stdout",
     "output_type": "stream",
     "text": [
      "matriz:\n",
      "[32]\n",
      "[62]\n",
      "matriz transpuesta:\n",
      "(32, 62)\n"
     ]
    }
   ],
   "source": [
    "\n",
    "# todo: Resolución\n",
    "\n",
    "# ! 2\n",
    "import random\n",
    "\n",
    "def crear_matriz(x, y):\n",
    "    # Crear la matriz con dimensiones x (filas) y (columnas)\n",
    "    matriz = []\n",
    "    for i in range(x):\n",
    "        fila = [random.randint(1, 100) for _ in range(y)]  # Genera números aleatorios entre 1 y 100\n",
    "        matriz.append(fila)\n",
    "\n",
    "    # Crear la tupla con la matriz transpuesta\n",
    "    matriz_transpuesta = tuple(zip(*matriz))\n",
    "\n",
    "    \n",
    "    print(\"Matriz:\")\n",
    "    for fila in matriz:\n",
    "        print(fila)\n",
    "\n",
    "\n",
    "    print(\"Matriz transpuesta:\")\n",
    "    for fila in matriz_transpuesta:\n",
    "        print(fila)\n",
    "\n",
    "x = int(input(\"Ingresa el número de filas: \"))\n",
    "y = int(input(\"Ingresa el número de columnas: \"))\n",
    "crear_matriz(x, y)\n",
    "\n",
    "\n"
   ]
  },
  {
   "cell_type": "code",
   "execution_count": 5,
   "metadata": {},
   "outputs": [
    {
     "name": "stdout",
     "output_type": "stream",
     "text": [
      "El precio menor es: 8\n",
      "El precio mayor es: 80\n"
     ]
    }
   ],
   "source": [
    "\n",
    "# todo: Resolución\n",
    "\n",
    "# ! 3\n",
    "\n",
    "def obtener_precios(precios):\n",
    "\n",
    "    precio_menor = min(precios)\n",
    "    precio_mayor = max(precios)\n",
    "    \n",
    "    print(\"El precio menor es:\", precio_menor)\n",
    "    print(\"El precio mayor es:\", precio_mayor)\n",
    "\n",
    "precios = [50, 75, 46, 22, 80, 65, 8]\n",
    "\n",
    "obtener_precios(precios)\n"
   ]
  },
  {
   "cell_type": "markdown",
   "metadata": {},
   "source": [
    "### 3. **Diccionarios**\n",
    "\n",
    "   - **Actividad 1**: Escribir un programa que cree un diccionario simulando una cesta de la compra. El programa debe preguntar el artículo y su precio y añadir el par al diccionario, hasta que el usuario decida terminar. Después se debe mostrar por pantalla la lista de la compra y el coste total, con el siguiente formato.\n",
    "\n",
    "   | arts  |precio |\n",
    "   |-------|-------|\n",
    "   |art 1  |1      |\n",
    "   |art 2  |2      |\n",
    "   |art 3  |3      |\n",
    "   |total  |6      |\n",
    "\n",
    "   - **Actividad 2**: Escribir un programa que cree un diccionario de traducción español-inglés. El usuario introducirá las palabras en español e inglés separadas por dos puntos, y cada par <palabra> : <traducción> separados por comas (es decir, solo se debe usar **UNA VEZ** la función input para la carga de palabras). El programa debe crear un diccionario con las palabras y sus traducciones. Después pedirá una frase en español y utilizará el diccionario para traducirla palabra a palabra. Si una palabra no está en el diccionario debe dejarla sin traducir.\n",
    "\n",
    "   - **Actividad 3**: Escribir un programa que reciba una cadena de caracteres y devuelva un diccionario con cada palabra que contiene y su frecuencia. Escribir otra función que reciba el diccionario generado con la función anterior y devuelva una tupla con la palabra más repetida y su frecuencia."
   ]
  },
  {
   "cell_type": "code",
   "execution_count": null,
   "metadata": {},
   "outputs": [
    {
     "name": "stdout",
     "output_type": "stream",
     "text": [
      "Lista de la Compra\n",
      "uva: $10.0\n",
      "piña: $1443.0\n",
      "\n",
      "Total: $1453.0\n"
     ]
    }
   ],
   "source": [
    "\n",
    "# todo: Resolución\n",
    "\n",
    "# ! 1\n",
    "def cesta_compra():\n",
    "    # Crear un diccionario vacío para la cesta de la compra\n",
    "    cesta = {}\n",
    "\n",
    "    # Bucle para preguntar por artículos y precios hasta que el usuario decida terminar\n",
    "    while True:\n",
    "        articulo = input(\"Introduce el nombre del artículo (o 'listo' para finalizar): \")\n",
    "        \n",
    "        if articulo.lower() == 'listo':\n",
    "            break\n",
    "        \n",
    "        try:\n",
    "            precio = float(input(f\"Introduce el precio de '{articulo}': \"))\n",
    "        except ValueError:\n",
    "            print(\"Por favor, introduce un precio válido.\")\n",
    "            continue\n",
    "        \n",
    "        # Añadir el artículo y su precio al diccionario\n",
    "        cesta[articulo] = precio\n",
    "\n",
    "    print(\"Lista de la Compra\")\n",
    "    total = 0\n",
    "\n",
    "    for articulo, precio in cesta.items():\n",
    "        print(f\"{articulo}: ${precio}\")\n",
    "        total += precio\n",
    "\n",
    "    print(f\"\\nTotal: ${total}\")\n",
    "\n",
    "\n",
    "cesta_compra()\n",
    "\n",
    "\n"
   ]
  },
  {
   "cell_type": "code",
   "execution_count": 39,
   "metadata": {},
   "outputs": [
    {
     "ename": "KeyboardInterrupt",
     "evalue": "Interrupted by user",
     "output_type": "error",
     "traceback": [
      "\u001b[31m---------------------------------------------------------------------------\u001b[39m",
      "\u001b[31mKeyboardInterrupt\u001b[39m                         Traceback (most recent call last)",
      "\u001b[36mCell\u001b[39m\u001b[36m \u001b[39m\u001b[32mIn[39]\u001b[39m\u001b[32m, line 34\u001b[39m\n\u001b[32m     31\u001b[39m     \u001b[38;5;28mprint\u001b[39m(\u001b[33m\"\u001b[39m\u001b[33mFrase traducida:\u001b[39m\u001b[33m\"\u001b[39m, \u001b[33m'\u001b[39m\u001b[33m \u001b[39m\u001b[33m'\u001b[39m.join(frase_traducida))\n\u001b[32m     33\u001b[39m \u001b[38;5;66;03m# Llamar a la función\u001b[39;00m\n\u001b[32m---> \u001b[39m\u001b[32m34\u001b[39m \u001b[43mtraductor_espanol_ingles\u001b[49m\u001b[43m(\u001b[49m\u001b[43m)\u001b[49m\n",
      "\u001b[36mCell\u001b[39m\u001b[36m \u001b[39m\u001b[32mIn[39]\u001b[39m\u001b[32m, line 5\u001b[39m, in \u001b[36mtraductor_espanol_ingles\u001b[39m\u001b[34m()\u001b[39m\n\u001b[32m      3\u001b[39m \u001b[38;5;28;01mdef\u001b[39;00m\u001b[38;5;250m \u001b[39m\u001b[34mtraductor_espanol_ingles\u001b[39m():\n\u001b[32m      4\u001b[39m     \u001b[38;5;66;03m# Solicitar al usuario las palabras y sus traducciones\u001b[39;00m\n\u001b[32m----> \u001b[39m\u001b[32m5\u001b[39m     entrada = \u001b[38;5;28;43minput\u001b[39;49m\u001b[43m(\u001b[49m\u001b[33;43m\"\u001b[39;49m\u001b[33;43mIntroduce las palabras en español e inglés, separadas por coma y con el formato \u001b[39;49m\u001b[33;43m'\u001b[39;49m\u001b[33;43mpalabra:traducción\u001b[39;49m\u001b[33;43m'\u001b[39;49m\u001b[33;43m (ejemplo: \u001b[39;49m\u001b[33;43m'\u001b[39;49m\u001b[33;43mhola:hello,adiós:goodbye\u001b[39;49m\u001b[33;43m'\u001b[39;49m\u001b[33;43m): \u001b[39;49m\u001b[33;43m\"\u001b[39;49m\u001b[43m)\u001b[49m\n\u001b[32m      7\u001b[39m     \u001b[38;5;66;03m# Crear el diccionario de traducción\u001b[39;00m\n\u001b[32m      8\u001b[39m     diccionario = {}\n",
      "\u001b[36mFile \u001b[39m\u001b[32m~\\AppData\\Roaming\\Python\\Python313\\site-packages\\ipykernel\\kernelbase.py:1282\u001b[39m, in \u001b[36mKernel.raw_input\u001b[39m\u001b[34m(self, prompt)\u001b[39m\n\u001b[32m   1280\u001b[39m     msg = \u001b[33m\"\u001b[39m\u001b[33mraw_input was called, but this frontend does not support input requests.\u001b[39m\u001b[33m\"\u001b[39m\n\u001b[32m   1281\u001b[39m     \u001b[38;5;28;01mraise\u001b[39;00m StdinNotImplementedError(msg)\n\u001b[32m-> \u001b[39m\u001b[32m1282\u001b[39m \u001b[38;5;28;01mreturn\u001b[39;00m \u001b[38;5;28;43mself\u001b[39;49m\u001b[43m.\u001b[49m\u001b[43m_input_request\u001b[49m\u001b[43m(\u001b[49m\n\u001b[32m   1283\u001b[39m \u001b[43m    \u001b[49m\u001b[38;5;28;43mstr\u001b[39;49m\u001b[43m(\u001b[49m\u001b[43mprompt\u001b[49m\u001b[43m)\u001b[49m\u001b[43m,\u001b[49m\n\u001b[32m   1284\u001b[39m \u001b[43m    \u001b[49m\u001b[38;5;28;43mself\u001b[39;49m\u001b[43m.\u001b[49m\u001b[43m_parent_ident\u001b[49m\u001b[43m[\u001b[49m\u001b[33;43m\"\u001b[39;49m\u001b[33;43mshell\u001b[39;49m\u001b[33;43m\"\u001b[39;49m\u001b[43m]\u001b[49m\u001b[43m,\u001b[49m\n\u001b[32m   1285\u001b[39m \u001b[43m    \u001b[49m\u001b[38;5;28;43mself\u001b[39;49m\u001b[43m.\u001b[49m\u001b[43mget_parent\u001b[49m\u001b[43m(\u001b[49m\u001b[33;43m\"\u001b[39;49m\u001b[33;43mshell\u001b[39;49m\u001b[33;43m\"\u001b[39;49m\u001b[43m)\u001b[49m\u001b[43m,\u001b[49m\n\u001b[32m   1286\u001b[39m \u001b[43m    \u001b[49m\u001b[43mpassword\u001b[49m\u001b[43m=\u001b[49m\u001b[38;5;28;43;01mFalse\u001b[39;49;00m\u001b[43m,\u001b[49m\n\u001b[32m   1287\u001b[39m \u001b[43m\u001b[49m\u001b[43m)\u001b[49m\n",
      "\u001b[36mFile \u001b[39m\u001b[32m~\\AppData\\Roaming\\Python\\Python313\\site-packages\\ipykernel\\kernelbase.py:1325\u001b[39m, in \u001b[36mKernel._input_request\u001b[39m\u001b[34m(self, prompt, ident, parent, password)\u001b[39m\n\u001b[32m   1322\u001b[39m \u001b[38;5;28;01mexcept\u001b[39;00m \u001b[38;5;167;01mKeyboardInterrupt\u001b[39;00m:\n\u001b[32m   1323\u001b[39m     \u001b[38;5;66;03m# re-raise KeyboardInterrupt, to truncate traceback\u001b[39;00m\n\u001b[32m   1324\u001b[39m     msg = \u001b[33m\"\u001b[39m\u001b[33mInterrupted by user\u001b[39m\u001b[33m\"\u001b[39m\n\u001b[32m-> \u001b[39m\u001b[32m1325\u001b[39m     \u001b[38;5;28;01mraise\u001b[39;00m \u001b[38;5;167;01mKeyboardInterrupt\u001b[39;00m(msg) \u001b[38;5;28;01mfrom\u001b[39;00m\u001b[38;5;250m \u001b[39m\u001b[38;5;28;01mNone\u001b[39;00m\n\u001b[32m   1326\u001b[39m \u001b[38;5;28;01mexcept\u001b[39;00m \u001b[38;5;167;01mException\u001b[39;00m:\n\u001b[32m   1327\u001b[39m     \u001b[38;5;28mself\u001b[39m.log.warning(\u001b[33m\"\u001b[39m\u001b[33mInvalid Message:\u001b[39m\u001b[33m\"\u001b[39m, exc_info=\u001b[38;5;28;01mTrue\u001b[39;00m)\n",
      "\u001b[31mKeyboardInterrupt\u001b[39m: Interrupted by user"
     ]
    }
   ],
   "source": [
    "\n",
    "# todo: Resolución\n",
    "\n"
   ]
  },
  {
   "cell_type": "code",
   "execution_count": 8,
   "metadata": {},
   "outputs": [],
   "source": [
    "\n",
    "# todo: Resolución\n",
    "\n",
    "# ! 3"
   ]
  },
  {
   "cell_type": "markdown",
   "metadata": {},
   "source": [
    "### 4. **Funciones**\n",
    "\n",
    "- **Actividad 1**: Escribir una función que calcule el total de una factura tras aplicarle el IVA. La función debe recibir la cantidad sin IVA y el porcentaje de IVA a aplicar, y devolver el total de la factura. Si se invoca la función sin pasarle el porcentaje de IVA, deberá aplicar un 21%.\n",
    "\n",
    "- **Actividad 2**: Escribir una función que reciba un número entero positivo y devuelva su factorial.\n"
   ]
  },
  {
   "cell_type": "code",
   "execution_count": 9,
   "metadata": {},
   "outputs": [],
   "source": [
    "\n",
    "# todo: Resolución\n",
    "\n",
    "# ! 1"
   ]
  },
  {
   "cell_type": "code",
   "execution_count": 10,
   "metadata": {},
   "outputs": [],
   "source": [
    "\n",
    "# todo: Resolución\n",
    "\n",
    "# ! 2"
   ]
  }
 ],
 "metadata": {
  "kernelspec": {
   "display_name": "Python 3",
   "language": "python",
   "name": "python3"
  },
  "language_info": {
   "codemirror_mode": {
    "name": "ipython",
    "version": 3
   },
   "file_extension": ".py",
   "mimetype": "text/x-python",
   "name": "python",
   "nbconvert_exporter": "python",
   "pygments_lexer": "ipython3",
   "version": "3.13.2"
  }
 },
 "nbformat": 4,
 "nbformat_minor": 2
}
